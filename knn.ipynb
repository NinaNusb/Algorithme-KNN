{
 "cells": [
  {
   "cell_type": "code",
   "execution_count": 4,
   "metadata": {},
   "outputs": [],
   "source": [
    "import csv"
   ]
  },
  {
   "cell_type": "code",
   "execution_count": 5,
   "metadata": {},
   "outputs": [
    {
     "data": {
      "text/plain": [
       "[['Ecayon', '49', '49', 'Eau'],\n",
       " ['Tiplouf', '53', '51', 'Eau'],\n",
       " ['Carabaffe', '59', '63', 'Eau'],\n",
       " ['Prinplouf', '64', '66', 'Eau'],\n",
       " ['Gobou', '50', '70', 'Eau'],\n",
       " ['Gamblast', '71', '73', 'Eau'],\n",
       " ['Mateloutre', '75', '75', 'Eau'],\n",
       " ['Tarpaud', '90', '75', 'Eau'],\n",
       " ['Crocrodil', '65', '80', 'Eau'],\n",
       " ['Phione', '80', '80', 'Eau'],\n",
       " ['Rosabyss', '55', '84', 'Eau'],\n",
       " ['Bargantua', '70', '92', 'Eau'],\n",
       " ['Poissoroy', '80', '92', 'Eau'],\n",
       " ['Clamiral', '95', '100', 'Eau'],\n",
       " ['Octillery', '75', '105', 'Eau'],\n",
       " ['Aligatueur', '85', '105', 'Eau'],\n",
       " ['Nucleos', '45', '30', 'Psy'],\n",
       " ['Deoxys', '50', '70', 'Psy'],\n",
       " ['Deoxys', '50', '95', 'Psy'],\n",
       " ['Deoxys', '50', '150', 'Psy'],\n",
       " ['Deoxys', '50', '180', 'Psy'],\n",
       " ['Spoink', '60', '25', 'Psy'],\n",
       " ['Mesmerella', '60', '45', 'Psy'],\n",
       " ['Siderella', '70', '55', 'Psy'],\n",
       " ['Eoko', '75', '50', 'Psy'],\n",
       " ['Crefadet', '75', '125', 'Psy'],\n",
       " ['Munna', '76', '25', 'Psy'],\n",
       " ['Groret', '80', '45', 'Psy'],\n",
       " ['Okeoke', '95', '23', 'Psy'],\n",
       " ['Mew', '100', '100', 'Psy'],\n",
       " ['Mewtwo', '106', '110', 'Psy'],\n",
       " ['Mewtwo', '106', '150', 'Psy'],\n",
       " ['Mewtwo', '106', '190', 'Psy'],\n",
       " ['Symbios', '110', '65', 'Psy']]"
      ]
     },
     "execution_count": 5,
     "metadata": {},
     "output_type": "execute_result"
    }
   ],
   "source": [
    "#Option 1 pour lire le fichier\n",
    "\n",
    "fichier = open (r'pokemon.csv') #r=mode lecture\n",
    "reader = csv.reader(fichier)\n",
    "liste_pokemon = []\n",
    "i = 0 #permet de ne pas afficher la ligne de titre\n",
    "for row in reader: #row est une liste donc elle sera affichée dans la liste vide\n",
    "    if i>0:\n",
    "        liste_pokemon.append(row)\n",
    "    i += 1\n",
    "\n",
    "liste_pokemon #permet de print"
   ]
  },
  {
   "cell_type": "code",
   "execution_count": 6,
   "metadata": {},
   "outputs": [
    {
     "data": {
      "text/plain": [
       "\"\\nwith open('pokemon.csv', newline='') as csvfile:\\n    spamreader = csv.reader(csvfile, delimiter=' ', quotechar='|')\\n    for row in spamreader:\\n        print(', '.join(row))\""
      ]
     },
     "execution_count": 6,
     "metadata": {},
     "output_type": "execute_result"
    }
   ],
   "source": [
    "#Option 2 pour lire le fichier\n",
    "\"\"\"\n",
    "with open('pokemon.csv', newline='') as csvfile:\n",
    "    spamreader = csv.reader(csvfile, delimiter=' ', quotechar='|')\n",
    "    for row in spamreader:\n",
    "        print(', '.join(row))\"\"\""
   ]
  },
  {
   "cell_type": "code",
   "execution_count": 7,
   "metadata": {},
   "outputs": [
    {
     "data": {
      "text/plain": [
       "\"\\nwith open('pokemon.csv', newline='') as f:\\n    reader = csv.reader(f)\\n    for row in reader:\\n        print(row)\""
      ]
     },
     "execution_count": 7,
     "metadata": {},
     "output_type": "execute_result"
    }
   ],
   "source": [
    "#Option 3 pour lire fichier\n",
    "\"\"\"\n",
    "with open('pokemon.csv', newline='') as f:\n",
    "    reader = csv.reader(f)\n",
    "    for row in reader:\n",
    "        print(row)\"\"\""
   ]
  },
  {
   "cell_type": "code",
   "execution_count": 8,
   "metadata": {},
   "outputs": [
    {
     "data": {
      "text/plain": [
       "'with open(\"pokemon.csv\", \"r\") as csv_file:\\n    csv_reader = csv.reader(csv_file, delimiter=\\',\\')\\n    # the below statement will skip the first row\\n    next(csv_reader)\\n    for lines in csv_reader:\\n      print(lines)'"
      ]
     },
     "execution_count": 8,
     "metadata": {},
     "output_type": "execute_result"
    }
   ],
   "source": [
    "\"\"\"with open(\"pokemon.csv\", \"r\") as csv_file:\n",
    "    csv_reader = csv.reader(csv_file, delimiter=',')\n",
    "    # the below statement will skip the first row\n",
    "    next(csv_reader)\n",
    "    for lines in csv_reader:\n",
    "      print(lines)\"\"\""
   ]
  },
  {
   "cell_type": "code",
   "execution_count": 9,
   "metadata": {},
   "outputs": [
    {
     "data": {
      "text/plain": [
       "\"\\nwith open('pokemon.csv', newline='') as csvfile:\\n    reader = csv.DictReader(csvfile)\\n    for row in reader:\\n        print(row['Nom'], row['Points de vie'], row['Attaque'], row['Type'])\""
      ]
     },
     "execution_count": 9,
     "metadata": {},
     "output_type": "execute_result"
    }
   ],
   "source": [
    "#Option 4 pour lire fichier\n",
    "\"\"\"\n",
    "with open('pokemon.csv', newline='') as csvfile:\n",
    "    reader = csv.DictReader(csvfile)\n",
    "    for row in reader:\n",
    "        print(row['Nom'], row['Points de vie'], row['Attaque'], row['Type'])\"\"\""
   ]
  },
  {
   "cell_type": "code",
   "execution_count": 10,
   "metadata": {},
   "outputs": [],
   "source": [
    "import matplotlib.pyplot as plt\n"
   ]
  },
  {
   "cell_type": "code",
   "execution_count": 11,
   "metadata": {},
   "outputs": [],
   "source": [
    "liste_pkmn_eau = [pokemon for pokemon in liste_pokemon if pokemon[3] == \"Eau\"]\n",
    "liste_pkmn_psy = [pokemon for pokemon in liste_pokemon if pokemon[3] == \"Psy\"]"
   ]
  },
  {
   "cell_type": "code",
   "execution_count": 12,
   "metadata": {},
   "outputs": [
    {
     "data": {
      "text/plain": [
       "'\\nliste_pkmn_eau = []\\nfor pokemon in liste_pokemon:\\n    if pokemon[3] == \"Eau\": #3 càd son type, ici eau\\n        liste_pkmn_eau.append(pokemon)'"
      ]
     },
     "execution_count": 12,
     "metadata": {},
     "output_type": "execute_result"
    }
   ],
   "source": [
    "# Version plus longue de la liste par compréhention \n",
    "\"\"\"\n",
    "liste_pkmn_eau = []\n",
    "for pokemon in liste_pokemon:\n",
    "    if pokemon[3] == \"Eau\": #3 càd son type, ici eau\n",
    "        liste_pkmn_eau.append(pokemon)\"\"\""
   ]
  },
  {
   "cell_type": "code",
   "execution_count": 13,
   "metadata": {},
   "outputs": [],
   "source": [
    "#Créer les sous-listes pour l'affichage du nuage de points\n",
    "liste_pv_eau = [int(pokemon[1]) for pokemon in liste_pkmn_eau]\n",
    "liste_att_eau = [int(pokemon[2]) for pokemon in liste_pkmn_eau]\n",
    "liste_pv_psy = [int(pokemon[1]) for pokemon in liste_pkmn_psy]\n",
    "liste_att_psy = [int(pokemon[2]) for pokemon in liste_pkmn_psy]"
   ]
  },
  {
   "cell_type": "code",
   "execution_count": 14,
   "metadata": {},
   "outputs": [
    {
     "data": {
      "image/png": "[encoded data removed]",
      "text/plain": [
       "<Figure size 432x288 with 1 Axes>"
      ]
     },
     "metadata": {
      "needs_background": "light"
     },
     "output_type": "display_data"
    }
   ],
   "source": [
    "plt.plot(liste_pv_eau, liste_att_eau, \"ob\")\n",
    "plt.show()"
   ]
  },
  {
   "cell_type": "code",
   "execution_count": 15,
   "metadata": {},
   "outputs": [
    {
     "data": {
      "image/png": "[encoded data removed]",
      "text/plain": [
       "<Figure size 432x288 with 1 Axes>"
      ]
     },
     "metadata": {
      "needs_background": "light"
     },
     "output_type": "display_data"
    }
   ],
   "source": [
    "plt.plot(liste_pv_psy, liste_att_psy, \"or\")\n",
    "plt.show()"
   ]
  },
  {
   "cell_type": "code",
   "execution_count": 16,
   "metadata": {},
   "outputs": [
    {
     "data": {
      "image/png": "[encoded data removed]",
      "text/plain": [
       "<Figure size 432x288 with 1 Axes>"
      ]
     },
     "metadata": {
      "needs_background": "light"
     },
     "output_type": "display_data"
    }
   ],
   "source": [
    "plt.plot(liste_pv_psy, liste_att_psy, \"or\")\n",
    "plt.plot(liste_pv_eau, liste_att_eau, \"ob\")\n",
    "plt.show()"
   ]
  },
  {
   "cell_type": "code",
   "execution_count": 17,
   "metadata": {},
   "outputs": [],
   "source": [
    "#Créer une fonction pour calculer la distance\n",
    "from math import sqrt\n",
    "def distance(pokemon1, pokemon2):\n",
    "    diff_pv = int(pokemon1[1]) - int(pokemon2[1])\n",
    "    diff_att = int(pokemon1[2]) - int(pokemon2[2])\n",
    "    return(sqrt((diff_pv **2)+(diff_att **2)))\n",
    "\n",
    "    #OU en une ligne: return sqrt(((int(pokemon1[1])- int(pokemon2[1]))**2) + ((int(pokemon1[2]) - int(pokemon2[2]))**2))\n",
    "\n",
    "    #FAUX: sqrt(((liste_pkmn_eau[i](int[liste_pv_eau])-liste_pkmn_eau[i](int[liste_att_eau]))**2)+((liste_pkmn_psy[i](int[liste_pv_psy])-liste_pkmn_psy[i](int[liste_att_psy]))**2))\n",
    "    \n"
   ]
  },
  {
   "cell_type": "code",
   "execution_count": 18,
   "metadata": {},
   "outputs": [
    {
     "data": {
      "text/plain": [
       "[['Crefadet', '75', '125', 'Psy', 4.242640687119285],\n",
       " ['Octillery', '75', '105', 'Eau', 17.26267650163207],\n",
       " ['Aligatueur', '85', '105', 'Eau', 18.384776310850235]]"
      ]
     },
     "execution_count": 18,
     "metadata": {},
     "output_type": "execute_result"
    }
   ],
   "source": [
    "#Créer la fonction KNN\n",
    "\n",
    "import copy #pour travailler sur une copie et ne pas rajouter la distance à chaque tour\n",
    "\n",
    "def tri_knn(liste_pokemon, cible, k):\n",
    "    liste_triee = copy.deepcopy(liste_pokemon) #pour travailler sur une copie et ne pas rajouter la distance à chaque tour\n",
    "    for pokemon in liste_triee:\n",
    "        pokemon.append(distance(pokemon, cible))\n",
    "    liste_triee.sort(key = lambda pkmn:pkmn[4])\n",
    "    return liste_triee[0:k]\n",
    "\n",
    "#test\n",
    "tri_knn(liste_pokemon, [\"???\", 78, 122, None], 3)"
   ]
  },
  {
   "cell_type": "code",
   "execution_count": 19,
   "metadata": {},
   "outputs": [],
   "source": [
    "#créer fonction qui à partir de KNN donne le type de cible\n",
    "def donner_type(cible, liste_pokemon):\n",
    "    voisins = tri_knn(liste_pokemon, cible, 5)\n",
    "    pkmn_eau = []\n",
    "    pkmn_psy = []\n",
    "    for voisin in voisins:\n",
    "        if voisin[3] == \"Psy\":\n",
    "            pkmn_psy.append(voisin)\n",
    "        else:\n",
    "            pkmn_eau.append(voisin)\n",
    "    \n",
    "    if len(pkmn_psy) > len(pkmn_eau):\n",
    "        print(\"Le pokémon est de type psy\")\n",
    "    else:\n",
    "        print(\"Le type est eau\")"
   ]
  },
  {
   "cell_type": "code",
   "execution_count": 21,
   "metadata": {},
   "outputs": [
    {
     "name": "stdout",
     "output_type": "stream",
     "text": [
      "Le pokémon est de type psy\n"
     ]
    }
   ],
   "source": [
    "#Test\n",
    "donner_type([\"???\", 70, 45, None], liste_pokemon)"
   ]
  },
  {
   "cell_type": "code",
   "execution_count": null,
   "metadata": {},
   "outputs": [],
   "source": []
  }
 ],
 "metadata": {
  "kernelspec": {
   "display_name": "Python 3.10.4 64-bit",
   "language": "python",
   "name": "python3"
  },
  "language_info": {
   "codemirror_mode": {
    "name": "ipython",
    "version": 3
   },
   "file_extension": ".py",
   "mimetype": "text/x-python",
   "name": "python",
   "nbconvert_exporter": "python",
   "pygments_lexer": "ipython3",
   "version": "3.10.4"
  },
  "orig_nbformat": 4,
  "vscode": {
   "interpreter": {
    "hash": "916dbcbb3f70747c44a77c7bcd40155683ae19c65e1c03b4aa3499c5328201f1"
   }
  }
 },
 "nbformat": 4,
 "nbformat_minor": 2
}
